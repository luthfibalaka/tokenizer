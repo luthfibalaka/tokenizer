{
 "cells": [
  {
   "cell_type": "markdown",
   "metadata": {},
   "source": [
    "# BPE Tokenizer\n",
    "\n",
    "Pada kode ini, ditunjukkan contoh penggunaan BPE Tokenizer buatan HuggingFace. [Petunjuk instalasi package](https://huggingface.co/docs/tokenizers/installation)"
   ]
  },
  {
   "cell_type": "code",
   "execution_count": null,
   "metadata": {},
   "outputs": [],
   "source": [
    "# Import semua packages yang diperlukan.\n",
    "from tokenizers import Tokenizer\n",
    "from tokenizers.models import BPE\n",
    "from tokenizers.trainers import BpeTrainer\n",
    "from tokenizers.pre_tokenizers import Whitespace"
   ]
  },
  {
   "cell_type": "code",
   "execution_count": null,
   "metadata": {},
   "outputs": [],
   "source": [
    "# Instantiate tokenizer BPE dengan unknown token [UNK] (berguna \n",
    "# saat testing jika menemukan misalnya karakter yang tidak dikenali).\n",
    "tokenizer = Tokenizer(BPE(unk_token=\"[UNK]\"))"
   ]
  },
  {
   "cell_type": "code",
   "execution_count": null,
   "metadata": {},
   "outputs": [],
   "source": [
    "# Instantiate trainer BPE, PERHATIKAN hyperparameter vocab_size yang konsepnya\n",
    "# mirip dengan `num_of_merges` yang diajarkan di kelas (relasinya kurang lebih \n",
    "# num_of_merges = vocab_size - num_of_alphabet).\n",
    "trainer = BpeTrainer(\n",
    "    vocab_size=10000,  # Perbesar/perkecil dan lihat bedanya pada hasil tokenisasi\n",
    "    special_tokens=[\"[UNK]\", \"[CLS]\", \"[SEP]\", \"[PAD]\", \"[MASK]\"],\n",
    ")"
   ]
  },
  {
   "cell_type": "code",
   "execution_count": null,
   "metadata": {},
   "outputs": [],
   "source": [
    "# Menambahkan pre-tokenizer yang berfungsi untuk memecah tiap kalimat/dokumen\n",
    "# menjadi individual words berdasarkan keberadaan whitespace.\n",
    "tokenizer.pre_tokenizer = Whitespace()"
   ]
  },
  {
   "cell_type": "code",
   "execution_count": null,
   "metadata": {},
   "outputs": [],
   "source": [
    "# Mengekstrak kalimat-kalimat korpus ke dataset tersendiri sesuai spesifikasi\n",
    "# input dari package tokenizer, yaitu file berisi raw text (tanpa hasil tokenisasi)\n",
    "with open('train.txt', 'r') as train, open('train_text_only.txt', 'w') as out:\n",
    "    lines = train.readlines()\n",
    "    for line in lines:\n",
    "        if line.startswith('# text ='):\n",
    "            out.write(line[9:])"
   ]
  },
  {
   "cell_type": "code",
   "execution_count": null,
   "metadata": {},
   "outputs": [],
   "source": [
    "# Melatih tokenizer dengan corpus.\n",
    "tokenizer.train(\n",
    "    files=[\"train_text_only.txt\"],\n",
    "    trainer=trainer\n",
    ")"
   ]
  },
  {
   "cell_type": "code",
   "execution_count": null,
   "metadata": {},
   "outputs": [],
   "source": [
    "# Contoh melakukan tokenisasi suatu kalimat\n",
    "print(tokenizer.encode('Membaca Don Quixote untuk YouTube').tokens)\n",
    "print(tokenizer.encode('Namun Rooney tidak sendirian.').tokens)"
   ]
  },
  {
   "cell_type": "code",
   "execution_count": null,
   "metadata": {},
   "outputs": [],
   "source": [
    "with open('test.txt') as raw_text:\n",
    "    corpus = raw_text.readlines()"
   ]
  },
  {
   "cell_type": "code",
   "execution_count": null,
   "metadata": {},
   "outputs": [],
   "source": [
    "# Accumulating all sentences with their corresponding gold standard\n",
    "sentences: list[str] = []\n",
    "goldstd_sentences_tokens: list[list[str]] = []\n",
    "index = 0\n",
    "\n",
    "while index < 10415:\n",
    "    sentences.append(corpus[index][9:])\n",
    "    index += 1\n",
    "    tok_res = []\n",
    "    while not corpus[index].startswith('# text'):\n",
    "        tok_res.append(corpus[index].strip())\n",
    "        index += 1\n",
    "        if index == 10415:\n",
    "            break\n",
    "    goldstd_sentences_tokens.append(tok_res)"
   ]
  },
  {
   "cell_type": "code",
   "execution_count": null,
   "metadata": {},
   "outputs": [],
   "source": [
    "# Accumulating all sentences' tokenization results\n",
    "tokenizer_sentences_tokens: list[list[str]] = []\n",
    "for sentence in sentences:\n",
    "    tokenizer_sentences_tokens.append(\n",
    "        tokenizer.encode(sentence).tokens\n",
    "    )"
   ]
  },
  {
   "cell_type": "code",
   "execution_count": null,
   "metadata": {},
   "outputs": [],
   "source": [
    "# Counting accuracy\n",
    "from collections import Counter\n",
    "total_tokens = 0\n",
    "correct_tokens = 0\n",
    "\n",
    "for sentence_idx in range(len(tokenizer_sentences_tokens)):\n",
    "    goldstd_sentence_tokens = goldstd_sentences_tokens[sentence_idx]\n",
    "    tokenization_sentence_tokens = tokenizer_sentences_tokens[sentence_idx]\n",
    "    total_tokens += len(goldstd_sentence_tokens)\n",
    "    correct_tokens += len(list((Counter(goldstd_sentence_tokens) & Counter(tokenization_sentence_tokens)).elements()))\n",
    "\n",
    "print(\"Accuracy of BPE: \", correct_tokens/total_tokens)"
   ]
  }
 ],
 "metadata": {
  "kernelspec": {
   "display_name": "base",
   "language": "python",
   "name": "python3"
  },
  "language_info": {
   "codemirror_mode": {
    "name": "ipython",
    "version": 3
   },
   "file_extension": ".py",
   "mimetype": "text/x-python",
   "name": "python",
   "nbconvert_exporter": "python",
   "pygments_lexer": "ipython3",
   "version": "3.10.9"
  },
  "orig_nbformat": 4
 },
 "nbformat": 4,
 "nbformat_minor": 2
}
