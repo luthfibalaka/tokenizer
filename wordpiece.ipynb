{
 "cells": [
  {
   "cell_type": "markdown",
   "metadata": {},
   "source": [
    "# WordPiece Tokenizer\n",
    "\n",
    "Pada kode ini, diberikan implementasi dan contoh penggunaan algoritma WordPiece (sumber: [HuggingFace](https://huggingface.co/learn/nlp-course/chapter6/6?fw=pt))\n",
    "\n",
    "[Petunjuk instalasi package](https://huggingface.co/docs/transformers/installation)"
   ]
  },
  {
   "cell_type": "code",
   "execution_count": null,
   "metadata": {},
   "outputs": [],
   "source": [
    "# Import semua packages yang diperlukan.\n",
    "from transformers import AutoTokenizer\n",
    "from collections import defaultdict"
   ]
  },
  {
   "cell_type": "code",
   "execution_count": null,
   "metadata": {},
   "outputs": [],
   "source": [
    "# Instantiate pre-tokenizer untuk membagi dokumen menjadi individual words\n",
    "# berdasarkan keberadaan spasi\n",
    "tokenizer = AutoTokenizer.from_pretrained(\"bert-base-cased\")"
   ]
  },
  {
   "cell_type": "code",
   "execution_count": null,
   "metadata": {},
   "outputs": [],
   "source": [
    "# Mengekstrak kalimat-kalimat korpus train ke dataset tersendiri untuk melatih\n",
    "# tokenizer. Hasilnya file berisi raw text (tanpa hasil tokenisasi)\n",
    "with open('train.txt', 'r') as train, open('train_text_only.txt', 'w') as out:\n",
    "    lines = train.readlines()\n",
    "    for line in lines:\n",
    "        if line.startswith('# text ='):\n",
    "            out.write(line[9:])"
   ]
  },
  {
   "cell_type": "code",
   "execution_count": null,
   "metadata": {},
   "outputs": [],
   "source": [
    "# Membaca corpus\n",
    "with open('train_text_only.txt') as raw_text:\n",
    "    corpus = raw_text.readlines()"
   ]
  },
  {
   "cell_type": "code",
   "execution_count": null,
   "metadata": {},
   "outputs": [],
   "source": [
    "# Menghitung frekuensi tiap kata pada corpus\n",
    "word_freqs = defaultdict(int)\n",
    "for text in corpus:\n",
    "    words_with_offsets = tokenizer.backend_tokenizer.pre_tokenizer.pre_tokenize_str(text)\n",
    "    new_words = [word for word, _ in words_with_offsets]\n",
    "    for word in new_words:\n",
    "        word_freqs[word] += 1"
   ]
  },
  {
   "cell_type": "code",
   "execution_count": null,
   "metadata": {},
   "outputs": [],
   "source": [
    "# Melihat karakter apa saja yang ada pada corpus\n",
    "alphabet = []\n",
    "for word in word_freqs.keys():\n",
    "    if word[0] not in alphabet:\n",
    "        alphabet.append(word[0])\n",
    "    for letter in word[1:]:\n",
    "        if f\"##{letter}\" not in alphabet:\n",
    "            alphabet.append(f\"##{letter}\")\n",
    "\n",
    "alphabet.sort()\n",
    "\n",
    "print(alphabet)"
   ]
  },
  {
   "cell_type": "code",
   "execution_count": null,
   "metadata": {},
   "outputs": [],
   "source": [
    "# Mendefinisikan vocabulary yang akan digunakan untuk tokenisasi, termasuk\n",
    "# special token (di luar alphabet pada corpus)\n",
    "vocab = [\"[PAD]\", \"[UNK]\", \"[CLS]\", \"[SEP]\", \"[MASK]\"] + alphabet.copy()"
   ]
  },
  {
   "cell_type": "code",
   "execution_count": null,
   "metadata": {},
   "outputs": [],
   "source": [
    "# Membagi tiap kata menjadi individual character dengan adanya special prefix\n",
    "# untuk karakter yang bukan awal kata.\n",
    "splits = {\n",
    "    word: [c if i == 0 else f\"##{c}\" for i, c in enumerate(word)]\n",
    "    for word in word_freqs.keys()\n",
    "}\n",
    "print(splits)"
   ]
  },
  {
   "cell_type": "code",
   "execution_count": null,
   "metadata": {},
   "outputs": [],
   "source": [
    "# Mendefinisikan score untuk menentukan pair mana yang akan di-merge. Hal ini agak\n",
    "# berbeda dengan BPE yang melakukan merge pada pair yang frekuensinya terbanyak.\n",
    "def compute_pair_scores(splits):\n",
    "    letter_freqs = defaultdict(int)\n",
    "    pair_freqs = defaultdict(int)\n",
    "    for word, freq in word_freqs.items():\n",
    "        split = splits[word]\n",
    "        if len(split) == 1:\n",
    "            letter_freqs[split[0]] += freq\n",
    "            continue\n",
    "        for i in range(len(split) - 1):\n",
    "            pair = (split[i], split[i + 1])\n",
    "            letter_freqs[split[i]] += freq\n",
    "            pair_freqs[pair] += freq\n",
    "        letter_freqs[split[-1]] += freq\n",
    "\n",
    "    scores = {\n",
    "        pair: freq / (letter_freqs[pair[0]] * letter_freqs[pair[1]])\n",
    "        for pair, freq in pair_freqs.items()\n",
    "    }\n",
    "    return scores"
   ]
  },
  {
   "cell_type": "code",
   "execution_count": null,
   "metadata": {},
   "outputs": [],
   "source": [
    "# Membuat fungsi untuk melakukan merge (dilakukan pada splits)\n",
    "def merge_pair(a, b, splits):\n",
    "    for word in word_freqs:\n",
    "        split = splits[word]\n",
    "        if len(split) == 1:\n",
    "            continue\n",
    "        i = 0\n",
    "        while i < len(split) - 1:\n",
    "            if split[i] == a and split[i + 1] == b:\n",
    "                merge = a + b[2:] if b.startswith(\"##\") else a + b\n",
    "                split = split[:i] + [merge] + split[i + 2 :]\n",
    "            else:\n",
    "                i += 1\n",
    "        splits[word] = split\n",
    "    return splits"
   ]
  },
  {
   "cell_type": "code",
   "execution_count": null,
   "metadata": {},
   "outputs": [],
   "source": [
    "# Iterasi untuk training, seperti BPE, silakan ubah-ubah bagian vocab_size untuk\n",
    "# melihat perbedaan hasil tokenisasinya\n",
    "vocab_size = 10000  # Perbesar/perkecil dan lihat bedanya pada hasil tokenisasi\n",
    "while len(vocab) < vocab_size:\n",
    "    scores = compute_pair_scores(splits)\n",
    "    best_pair, max_score = \"\", None\n",
    "    for pair, score in scores.items():\n",
    "        if max_score is None or max_score < score:\n",
    "            best_pair = pair\n",
    "            max_score = score\n",
    "    splits = merge_pair(*best_pair, splits)\n",
    "    new_token = (\n",
    "        best_pair[0] + best_pair[1][2:]\n",
    "        if best_pair[1].startswith(\"##\")\n",
    "        else best_pair[0] + best_pair[1]\n",
    "    )\n",
    "    vocab.append(new_token)"
   ]
  },
  {
   "cell_type": "code",
   "execution_count": null,
   "metadata": {},
   "outputs": [],
   "source": [
    "# Define fungsi untuk tokenize sample\n",
    "def encode_word(word):\n",
    "    tokens = []\n",
    "    while len(word) > 0:\n",
    "        i = len(word)\n",
    "        while i > 0 and word[:i] not in vocab:\n",
    "            i -= 1\n",
    "        if i == 0:\n",
    "            return [\"[UNK]\"]\n",
    "        tokens.append(word[:i])\n",
    "        word = word[i:]\n",
    "        if len(word) > 0:\n",
    "            word = f\"##{word}\"\n",
    "    return tokens\n",
    "\n",
    "def tokenize(text):\n",
    "    pre_tokenize_result = tokenizer._tokenizer.pre_tokenizer.pre_tokenize_str(text)\n",
    "    pre_tokenized_text = [word for word, offset in pre_tokenize_result]\n",
    "    encoded_words = [encode_word(word) for word in pre_tokenized_text]\n",
    "    return sum(encoded_words, [])"
   ]
  },
  {
   "cell_type": "code",
   "execution_count": null,
   "metadata": {},
   "outputs": [],
   "source": [
    "# Contoh tokenisasi dengan tokenizer yang sudah dilatih\n",
    "print(tokenize('Membaca Don Quixote untuk YouTube'))\n",
    "print(tokenize('Namun Rooney tidak sendirian.'))"
   ]
  },
  {
   "cell_type": "code",
   "execution_count": null,
   "metadata": {},
   "outputs": [],
   "source": [
    "with open('test.txt') as raw_text:\n",
    "    corpus = raw_text.readlines()"
   ]
  },
  {
   "cell_type": "code",
   "execution_count": null,
   "metadata": {},
   "outputs": [],
   "source": [
    "# Accumulating all sentences with their corresponding gold standard\n",
    "sentences: list[str] = []\n",
    "goldstd_sentences_tokens: list[list[str]] = []\n",
    "index = 0\n",
    "\n",
    "while index < 10415:\n",
    "    sentences.append(corpus[index][9:])\n",
    "    index += 1\n",
    "    tok_res = []\n",
    "    while not corpus[index].startswith('# text'):\n",
    "        tok_res.append(corpus[index].strip())\n",
    "        index += 1\n",
    "        if index == 10415:\n",
    "            break\n",
    "    goldstd_sentences_tokens.append(tok_res)"
   ]
  },
  {
   "cell_type": "code",
   "execution_count": null,
   "metadata": {},
   "outputs": [],
   "source": [
    "# Accumulating all sentences' tokenization results\n",
    "tokenizer_sentences_tokens: list[list[str]] = []\n",
    "for sentence in sentences:\n",
    "    cleaned_tokens = []  # Cleaning tokens with '##' prefix\n",
    "    tokens = tokenize(sentence)\n",
    "    for token in tokens:\n",
    "        if token.startswith('##'):\n",
    "            cleaned_tokens.append(token[2:])\n",
    "        else:\n",
    "            cleaned_tokens.append(token)\n",
    "    \n",
    "    tokenizer_sentences_tokens.append(\n",
    "        cleaned_tokens\n",
    "    )"
   ]
  },
  {
   "cell_type": "code",
   "execution_count": null,
   "metadata": {},
   "outputs": [],
   "source": [
    "# Counting accuracy\n",
    "from collections import Counter\n",
    "total_tokens = 0\n",
    "correct_tokens = 0\n",
    "\n",
    "for sentence_idx in range(len(tokenizer_sentences_tokens)):\n",
    "    goldstd_sentence = goldstd_sentences_tokens[sentence_idx]\n",
    "    tokenization_sentence = tokenizer_sentences_tokens[sentence_idx]\n",
    "    total_tokens += len(goldstd_sentence)\n",
    "    correct_tokens += len(list((Counter(goldstd_sentence) & Counter(tokenization_sentence)).elements()))\n",
    "\n",
    "print(correct_tokens/total_tokens)"
   ]
  }
 ],
 "metadata": {
  "kernelspec": {
   "display_name": "base",
   "language": "python",
   "name": "python3"
  },
  "language_info": {
   "codemirror_mode": {
    "name": "ipython",
    "version": 3
   },
   "file_extension": ".py",
   "mimetype": "text/x-python",
   "name": "python",
   "nbconvert_exporter": "python",
   "pygments_lexer": "ipython3",
   "version": "3.10.9"
  },
  "orig_nbformat": 4
 },
 "nbformat": 4,
 "nbformat_minor": 2
}
